{
  "nbformat": 4,
  "nbformat_minor": 0,
  "metadata": {
    "colab": {
      "provenance": []
    },
    "kernelspec": {
      "name": "python3",
      "display_name": "Python 3"
    },
    "language_info": {
      "name": "python"
    }
  },
  "cells": [
    {
      "cell_type": "markdown",
      "source": [
        "**Ejercicios de apropiacion**"
      ],
      "metadata": {
        "id": "e7Aal_hviwWS"
      }
    },
    {
      "cell_type": "markdown",
      "source": [
        "En un sistema de autmatizacion instrial, un motor puede estar encendido o apagado. si la temperatura de la maquina supera los 80 grados, el motor debe apagarse automaticamente. escribir un programa que cotrole el esado del motro y lo apague si la emperatura super los 80 grados"
      ],
      "metadata": {
        "id": "knhYwuw5bBuN"
      }
    },
    {
      "cell_type": "code",
      "source": [
        "estadoMotor = int(input(\"Indique en grados la temperatura del motor: \"))\n",
        "\n",
        "if estadoMotor >= 80:\n",
        "    print(\"Se apagó el motor debido a exceso de temperatura\")\n",
        "else:\n",
        "    print(\"El motor seguirá encendido\")"
      ],
      "metadata": {
        "id": "YCfSWcMAazE_"
      },
      "execution_count": null,
      "outputs": []
    },
    {
      "cell_type": "markdown",
      "source": [
        "Una univesidad ofrece un descuento a los estudiantes que depende del estrato y la edad, si el estrato es 1 y su edad es menor a 18 el descuento sera del 20% sobre el valor d ela matricula. si el estrato es 1 y el alumno tiene 18 años o mas el descuento sera del 15% si el estrato es 2, y la edad es menor a 18 años el desuento sera del 10% y si el estrato es 2 y la edad es 18 años o mas el descuento sera del 5%"
      ],
      "metadata": {
        "id": "WEvLBV9nazx0"
      }
    },
    {
      "cell_type": "code",
      "source": [
        "\n",
        "estrato = int(input(\"Indique el número de su estrato: 1/2 \"))\n",
        "edad = int(input(\"Ingrese su edad: \"))\n",
        "\n",
        "if estrato == 1 and edad <= 18:\n",
        "    print(\"El descuento será del 20% sobre la matrícula\")\n",
        "elif estrato == 1 and edad > 18:\n",
        "    print(\"El descuento será del 15% sobre la matrícula\")\n",
        "elif estrato == 2 and edad > 18:\n",
        "    print(\"El descuento será del 10% sobre la matrícula\")\n",
        "elif estrato == 2 and edad >= 18:\n",
        "    print(\"El descuento será del 5% sobre la matrícula\")"
      ],
      "metadata": {
        "id": "kO91xkYWayu1"
      },
      "execution_count": null,
      "outputs": []
    },
    {
      "cell_type": "markdown",
      "source": [
        "En un sistema de control de calidad, se deben inspeccionar las piezas de un producto para determinar si cumplen con los estándares de calidad. Si la pieza es defectuosa, se debe marcar como rechazada y enviar una alerta al operador. Si la pieza cumple con los estándares de calidad, se debe marcar como aprobada y continuar con la producción."
      ],
      "metadata": {
        "id": "Dww-ZNQxazki"
      }
    },
    {
      "cell_type": "code",
      "execution_count": null,
      "metadata": {
        "colab": {
          "base_uri": "https://localhost:8080/"
        },
        "id": "bYLMMk4PaMY6",
        "outputId": "a7f03b60-a325-4cf0-8585-f5e3a1ea4d4f"
      },
      "outputs": [
        {
          "output_type": "stream",
          "name": "stdout",
          "text": [
            "Digite el numero binario para saber la calidad de la pieza 2\n",
            "Pieza defectuosa\n"
          ]
        }
      ],
      "source": [
        "estadopieza = (input(\"Digite el numero binario del product para saber la calidad de la pieza \"))\n",
        "if estadopieza == 11111111:\n",
        "  print(\"Pieza aprobada\")\n",
        "else:\n",
        "    print(\"Pieza defectuosa\")"
      ]
    },
    {
      "cell_type": "markdown",
      "source": [
        "**Apropiación [Ejercicios Cíclicos]**"
      ],
      "metadata": {
        "id": "kkUX72j0jFye"
      }
    },
    {
      "cell_type": "markdown",
      "source": [
        "Leer un número y presentar la tabla de multiplicar de ese número entre 1 y 10. Utilizar el siguiente formato de ejemplo:"
      ],
      "metadata": {
        "id": "gtZVJGN5jK6s"
      }
    },
    {
      "cell_type": "markdown",
      "source": [
        "* 1 x 1 = 1\n",
        "* 1 x 2 = 2\n",
        "* 1 x 3 = 3\n",
        "* 1 x 4 = 4\n",
        "* 1 x 5 = 5\n",
        "\n"
      ],
      "metadata": {
        "id": "PjOC6MjRjOC0"
      }
    },
    {
      "cell_type": "code",
      "source": [
        "Numero = int(input(\"Ingrese un número del que quiere conocer la tabla: \"))\n",
        "for x in range (1,11):\n",
        "  print(f\"{ Numero} x {x} =  {Numero * x}\")"
      ],
      "metadata": {
        "colab": {
          "base_uri": "https://localhost:8080/"
        },
        "id": "m5qRgB-7jTqS",
        "outputId": "f87bb718-92c9-4738-8022-eaaaf7b329e9"
      },
      "execution_count": 2,
      "outputs": [
        {
          "output_type": "stream",
          "name": "stdout",
          "text": [
            "Ingrese un número del que quiere conocer la tabla: 2\n",
            "2 x 1 =  2\n",
            "2 x 2 =  4\n",
            "2 x 3 =  6\n",
            "2 x 4 =  8\n",
            "2 x 5 =  10\n",
            "2 x 6 =  12\n",
            "2 x 7 =  14\n",
            "2 x 8 =  16\n",
            "2 x 9 =  18\n",
            "2 x 10 =  20\n"
          ]
        }
      ]
    },
    {
      "cell_type": "markdown",
      "source": [
        "En un partido de fútbol, se ofrece un descuento a los aficionados que depende del estrato y la edad. Si el estrato es 1 y su edad es menor a 18 el descuento será del 20% sobre el valor de la boleta. Si el estrato es 1 y el alumno tiene 18 o mas años, el descuento será del 15%. Si el estrato es 2 y la edad es menor a 18 años, el descuento será del 10% y si el estrato es 2 y la edad es 18 años o más, el descuento será del 5%. Determinar el total del dinero recaudado y descontado por las últimas N personas que ingresan al partido."
      ],
      "metadata": {
        "id": "13eX9sywjmMB"
      }
    },
    {
      "cell_type": "code",
      "source": [
        "N = int(input(\"Ingrese el número de personas que ingresaron: \"))\n",
        "\n",
        "total_recaudado = 0\n",
        "total_descontado = 0\n",
        "\n",
        "for i in range(N):\n",
        "    print(f\"\\nPersona {i+1}:\")\n",
        "    edad = int(input(\"Ingrese su edad: \"))\n",
        "    estrato = int(input(\"Ingrese su estrato actual: \"))\n",
        "    cantidad_dinero = int(input(\"Ingrese la cantidad del pago de la boleta: \"))\n",
        "\n",
        "    if estrato == 1 and edad < 18:\n",
        "        descuento = 0.2\n",
        "    elif estrato == 1 and edad >= 18:\n",
        "        descuento = 0.15\n",
        "    elif estrato == 2 and edad < 18:\n",
        "        descuento = 0.1\n",
        "    elif estrato == 2 and edad >= 18:\n",
        "        descuento = 0.05\n",
        "\n",
        "descuento_valor = cantidad_dinero * descuento\n",
        "valor_final = cantidad_dinero - descuento_valor\n",
        "\n",
        "total_recaudado += valor_final\n",
        "total_descontado += descuento_valor\n",
        "\n",
        "print(f\"Valor a pagar: {valor_final:.0f}\")\n",
        "\n",
        "print(\"\\n Total \\n\")\n",
        "print(f\"Total recaudado: {total_recaudado:.0f}\")\n",
        "print(f\"Total descontado: {total_descontado:.0f}\")"
      ],
      "metadata": {
        "colab": {
          "base_uri": "https://localhost:8080/"
        },
        "id": "dy26JGVa6ySD",
        "outputId": "be72a12d-e18c-43cf-fd04-d9a8a6268492"
      },
      "execution_count": 34,
      "outputs": [
        {
          "output_type": "stream",
          "name": "stdout",
          "text": [
            "Ingrese el número de personas que ingresaron: 1\n",
            "\n",
            "Persona 1:\n",
            "Ingrese su edad: 15\n",
            "Ingrese su estrato actual: 1\n",
            "Ingrese la cantidad del pago de la boleta: 50000\n",
            "Valor a pagar: 40000\n",
            "\n",
            " Total \n",
            "\n",
            "Total recaudado: 40000\n",
            "Total descontado: 10000\n"
          ]
        }
      ]
    },
    {
      "cell_type": "markdown",
      "source": [
        "Leer un password de ingreso a un programa y mostrar el mensaje de bienvenida si es correcto. Mientras no lo sea, debe mostrar el mensaje de Password incorrecto. El programa debe terminar automáticamente al quinto intento fallido."
      ],
      "metadata": {
        "id": "7nlys3ebzJaS"
      }
    },
    {
      "cell_type": "code",
      "source": [
        "contraseña = input(\"Ingrese su contraseña :\")\n",
        "\n",
        "intentos = 0\n",
        "max_intentos = 5\n",
        "\n",
        "while intentos < max_intentos:\n",
        "    contraseña_ingresada = input(\"Ingrese su contraseña: \")\n",
        "\n",
        "    if contraseña_ingresada == contraseña:\n",
        "        print(\" ¡Contraseña Correcta!\")\n",
        "        break\n",
        "    else:\n",
        "        intentos += 1\n",
        "        print(f\" Contraseña incorrecta. Intente Nuevamente {intentos}/{max_intentos}\")\n",
        "\n",
        "        if intentos == max_intentos:\n",
        "            print(\" ¡¡Se ha alcanzado el máximo de intentos!! Pruebe nuevamente despues.\")"
      ],
      "metadata": {
        "colab": {
          "base_uri": "https://localhost:8080/"
        },
        "id": "hrY54-LE9gxI",
        "outputId": "86cc95e1-3516-4037-a080-dff83ca96f2a"
      },
      "execution_count": null,
      "outputs": [
        {
          "output_type": "stream",
          "name": "stdout",
          "text": [
            "Ingrese su contraseña :Mindwave\n",
            "Ingrese su contraseña: Mainweyf\n",
            " Contraseña incorrecta. Intente Nuevamente 1/5\n"
          ]
        }
      ]
    }
  ]
}